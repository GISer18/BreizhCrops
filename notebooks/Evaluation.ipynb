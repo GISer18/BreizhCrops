{
 "cells": [
  {
   "cell_type": "markdown",
   "metadata": {},
   "source": [
    "# Model Evaluation"
   ]
  },
  {
   "cell_type": "code",
   "execution_count": 3,
   "metadata": {},
   "outputs": [],
   "source": [
    "!ls /tmp/LSTM_input-dim=13_num-classes=13_hidden-dims=128_num-layers=2_bidirectional=True_use-layernorm=True_dropout=0.5713020228087161_learning-rate=0.009880117756170353_weight-decay=5.256755602421856e-07"
   ]
  },
  {
   "cell_type": "code",
   "execution_count": 62,
   "metadata": {},
   "outputs": [],
   "source": [
    "import os\n",
    "import numpy as np\n",
    "import pandas as pd\n",
    "\n",
    "import sys\n",
    "sys.path.append(\"..\")\n",
    "from examples.train import metrics"
   ]
  },
  {
   "cell_type": "code",
   "execution_count": 63,
   "metadata": {},
   "outputs": [
    {
     "name": "stdout",
     "output_type": "stream",
     "text": [
      "InceptionTime  LSTM\t OmniScaleCNN  TempCNN\r\n",
      "L1C\t       MSResNet  StarRNN       TransformerEncoder\r\n"
     ]
    }
   ],
   "source": [
    "!ls /data2/breizhcrops/dgx"
   ]
  },
  {
   "cell_type": "code",
   "execution_count": 71,
   "metadata": {},
   "outputs": [],
   "source": [
    "logdir = \"/data2/breizhcrops/dgx\"\n",
    "runs = [\"LSTM\",\"OmniScaleCNN\",\"MSResNet\",\"StarRNN\",\"TempCNN\",\"TransformerEncoder\", \"InceptionTime\"]\n",
    "\n",
    "def load(run):\n",
    "    y_pred = np.load(os.path.join(logdir,run,\"y_pred.npy\"))\n",
    "    y_true = np.load(os.path.join(logdir,run,\"y_true.npy\"))\n",
    "    y_score = np.load(os.path.join(logdir,run,\"y_score.npy\"))\n",
    "    field_ids = np.load(os.path.join(logdir,run,\"field_ids.npy\"))\n",
    "    result = pd.DataFrame([y_pred,y_true,field_ids],index=[\"y_pred\",\"y_true\",\"field_ids\"]).T.set_index(\"field_ids\")\n",
    "    return result, y_score\n",
    "\n",
    "stats = list()\n",
    "for run in runs:\n",
    "    result, _ = load(run)\n",
    "    stat = metrics(result.y_true,result.y_pred)\n",
    "    stat[\"model\"] = run\n",
    "    stats.append(stat)\n",
    "stats = pd.DataFrame(stats).set_index(\"model\")"
   ]
  },
  {
   "cell_type": "code",
   "execution_count": 96,
   "metadata": {},
   "outputs": [],
   "source": [
    "df = stats.T\n",
    "df[\"RF\"] = \"\"\n",
    "\n",
    "models = [\"RF\",\"OmniScaleCNN\", \"TempCNN\",\"MSResNet\", \"InceptionTime\", \"LSTM\",\"StarRNN\",\"TransformerEncoder\"]\n",
    "table = df[models].loc[[\"accuracy\",\"recall_macro\",\"f1_macro\",\"f1_weighted\",\"kappa\"]]\n",
    "table.index = [\"overall accuracy\",\"average accuracy\",\"class-mean f-score\",\"weighted f-score\",\"kappa-metric\"]\n"
   ]
  },
  {
   "cell_type": "code",
   "execution_count": 101,
   "metadata": {},
   "outputs": [
    {
     "name": "stdout",
     "output_type": "stream",
     "text": [
      "\\begin{tabular}{llrrrrrrr}\n",
      "\\toprule\n",
      "model & RF &  OmniScaleCNN &  TempCNN &  MSResNet &  InceptionTime &   LSTM &  StarRNN &  TransformerEncoder \\\\\n",
      "\\midrule\n",
      "overall accuracy   &    &        0.7347 &   0.7948 &    0.7668 &         0.7710 & 0.8010 &   0.7893 &              0.8046 \\\\\n",
      "average accuracy   &    &        0.5194 &   0.5541 &    0.5361 &         0.5338 & 0.5663 &   0.5552 &              0.5848 \\\\\n",
      "class-mean f-score &    &        0.5138 &   0.5610 &    0.5491 &         0.5363 & 0.5766 &   0.5619 &              0.5909 \\\\\n",
      "weighted f-score   &    &        0.7163 &   0.7874 &    0.7694 &         0.7669 & 0.7992 &   0.7891 &              0.8034 \\\\\n",
      "kappa-metric       &    &        0.6498 &   0.7306 &    0.6972 &         0.7038 & 0.7396 &   0.7272 &              0.7453 \\\\\n",
      "\\bottomrule\n",
      "\\end{tabular}\n",
      "\n"
     ]
    }
   ],
   "source": [
    "print(table.to_latex(float_format=\"%.4f\"))"
   ]
  },
  {
   "cell_type": "code",
   "execution_count": 78,
   "metadata": {},
   "outputs": [
    {
     "data": {
      "text/html": [
       "<div>\n",
       "<style scoped>\n",
       "    .dataframe tbody tr th:only-of-type {\n",
       "        vertical-align: middle;\n",
       "    }\n",
       "\n",
       "    .dataframe tbody tr th {\n",
       "        vertical-align: top;\n",
       "    }\n",
       "\n",
       "    .dataframe thead th {\n",
       "        text-align: right;\n",
       "    }\n",
       "</style>\n",
       "<table border=\"1\" class=\"dataframe\">\n",
       "  <thead>\n",
       "    <tr style=\"text-align: right;\">\n",
       "      <th>model</th>\n",
       "      <th>OmniScaleCNN</th>\n",
       "      <th>MSResNet</th>\n",
       "      <th>TempCNN</th>\n",
       "      <th>LSTM</th>\n",
       "      <th>StarRNN</th>\n",
       "      <th>TransformerEncoder</th>\n",
       "    </tr>\n",
       "  </thead>\n",
       "  <tbody>\n",
       "    <tr>\n",
       "      <th>accuracy</th>\n",
       "      <td>0.734671</td>\n",
       "      <td>0.766837</td>\n",
       "      <td>0.794830</td>\n",
       "      <td>0.800983</td>\n",
       "      <td>0.789313</td>\n",
       "      <td>0.804552</td>\n",
       "    </tr>\n",
       "    <tr>\n",
       "      <th>f1_macro</th>\n",
       "      <td>0.513839</td>\n",
       "      <td>0.549065</td>\n",
       "      <td>0.561041</td>\n",
       "      <td>0.576579</td>\n",
       "      <td>0.561890</td>\n",
       "      <td>0.590879</td>\n",
       "    </tr>\n",
       "    <tr>\n",
       "      <th>f1_micro</th>\n",
       "      <td>0.734671</td>\n",
       "      <td>0.766837</td>\n",
       "      <td>0.794830</td>\n",
       "      <td>0.800983</td>\n",
       "      <td>0.789313</td>\n",
       "      <td>0.804552</td>\n",
       "    </tr>\n",
       "    <tr>\n",
       "      <th>f1_weighted</th>\n",
       "      <td>0.716275</td>\n",
       "      <td>0.769380</td>\n",
       "      <td>0.787383</td>\n",
       "      <td>0.799199</td>\n",
       "      <td>0.789067</td>\n",
       "      <td>0.803417</td>\n",
       "    </tr>\n",
       "    <tr>\n",
       "      <th>kappa</th>\n",
       "      <td>0.649812</td>\n",
       "      <td>0.697171</td>\n",
       "      <td>0.730600</td>\n",
       "      <td>0.739637</td>\n",
       "      <td>0.727189</td>\n",
       "      <td>0.745349</td>\n",
       "    </tr>\n",
       "    <tr>\n",
       "      <th>precision_macro</th>\n",
       "      <td>0.570504</td>\n",
       "      <td>0.636418</td>\n",
       "      <td>0.617525</td>\n",
       "      <td>0.638349</td>\n",
       "      <td>0.647902</td>\n",
       "      <td>0.603700</td>\n",
       "    </tr>\n",
       "    <tr>\n",
       "      <th>precision_micro</th>\n",
       "      <td>0.734671</td>\n",
       "      <td>0.766837</td>\n",
       "      <td>0.794830</td>\n",
       "      <td>0.800983</td>\n",
       "      <td>0.789313</td>\n",
       "      <td>0.804552</td>\n",
       "    </tr>\n",
       "    <tr>\n",
       "      <th>precision_weighted</th>\n",
       "      <td>0.774037</td>\n",
       "      <td>0.783465</td>\n",
       "      <td>0.792034</td>\n",
       "      <td>0.801159</td>\n",
       "      <td>0.799870</td>\n",
       "      <td>0.802677</td>\n",
       "    </tr>\n",
       "    <tr>\n",
       "      <th>recall_macro</th>\n",
       "      <td>0.519379</td>\n",
       "      <td>0.536133</td>\n",
       "      <td>0.554077</td>\n",
       "      <td>0.566342</td>\n",
       "      <td>0.555245</td>\n",
       "      <td>0.584775</td>\n",
       "    </tr>\n",
       "    <tr>\n",
       "      <th>recall_micro</th>\n",
       "      <td>0.734671</td>\n",
       "      <td>0.766837</td>\n",
       "      <td>0.794830</td>\n",
       "      <td>0.800983</td>\n",
       "      <td>0.789313</td>\n",
       "      <td>0.804552</td>\n",
       "    </tr>\n",
       "    <tr>\n",
       "      <th>recall_weighted</th>\n",
       "      <td>0.734671</td>\n",
       "      <td>0.766837</td>\n",
       "      <td>0.794830</td>\n",
       "      <td>0.800983</td>\n",
       "      <td>0.789313</td>\n",
       "      <td>0.804552</td>\n",
       "    </tr>\n",
       "  </tbody>\n",
       "</table>\n",
       "</div>"
      ],
      "text/plain": [
       "model               OmniScaleCNN  MSResNet   TempCNN      LSTM   StarRNN  \\\n",
       "accuracy                0.734671  0.766837  0.794830  0.800983  0.789313   \n",
       "f1_macro                0.513839  0.549065  0.561041  0.576579  0.561890   \n",
       "f1_micro                0.734671  0.766837  0.794830  0.800983  0.789313   \n",
       "f1_weighted             0.716275  0.769380  0.787383  0.799199  0.789067   \n",
       "kappa                   0.649812  0.697171  0.730600  0.739637  0.727189   \n",
       "precision_macro         0.570504  0.636418  0.617525  0.638349  0.647902   \n",
       "precision_micro         0.734671  0.766837  0.794830  0.800983  0.789313   \n",
       "precision_weighted      0.774037  0.783465  0.792034  0.801159  0.799870   \n",
       "recall_macro            0.519379  0.536133  0.554077  0.566342  0.555245   \n",
       "recall_micro            0.734671  0.766837  0.794830  0.800983  0.789313   \n",
       "recall_weighted         0.734671  0.766837  0.794830  0.800983  0.789313   \n",
       "\n",
       "model               TransformerEncoder  \n",
       "accuracy                      0.804552  \n",
       "f1_macro                      0.590879  \n",
       "f1_micro                      0.804552  \n",
       "f1_weighted                   0.803417  \n",
       "kappa                         0.745349  \n",
       "precision_macro               0.603700  \n",
       "precision_micro               0.804552  \n",
       "precision_weighted            0.802677  \n",
       "recall_macro                  0.584775  \n",
       "recall_micro                  0.804552  \n",
       "recall_weighted               0.804552  "
      ]
     },
     "execution_count": 78,
     "metadata": {},
     "output_type": "execute_result"
    }
   ],
   "source": [
    "df[models]OmniscaleCNNTempCNNMS-ResNetInceptionTimeLSTMStarRNNTransformer"
   ]
  },
  {
   "cell_type": "code",
   "execution_count": null,
   "metadata": {},
   "outputs": [],
   "source": [
    "OmniscaleCNNTempCNNMS-ResNetInceptionTimeLSTMStarRNNTransformer"
   ]
  }
 ],
 "metadata": {
  "kernelspec": {
   "display_name": "Python 3",
   "language": "python",
   "name": "python3"
  },
  "language_info": {
   "codemirror_mode": {
    "name": "ipython",
    "version": 3
   },
   "file_extension": ".py",
   "mimetype": "text/x-python",
   "name": "python",
   "nbconvert_exporter": "python",
   "pygments_lexer": "ipython3",
   "version": "3.7.3"
  }
 },
 "nbformat": 4,
 "nbformat_minor": 2
}
