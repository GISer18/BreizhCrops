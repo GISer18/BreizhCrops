{
 "cells": [
  {
   "cell_type": "markdown",
   "metadata": {},
   "source": [
    "# Parse Hyperparameters from Tune\n",
    "\n",
    "This notebook parses hyperparameter and validation statistics from the tune runs"
   ]
  },
  {
   "cell_type": "code",
   "execution_count": 65,
   "metadata": {},
   "outputs": [
    {
     "name": "stdout",
     "output_type": "stream",
     "text": [
      "receiving incremental file list\n",
      "tune/\n",
      "tune/InceptionTime_input-dim=13_num-classes=9_hidden-dims=128_num-layers=3_learning-rate=0.0009980594748806762_weight-decay=0.0010626996351948946/trainlog.csv\n",
      "tune/InceptionTime_input-dim=13_num-classes=9_hidden-dims=64_num-layers=3_learning-rate=0.0017112502300294895_weight-decay=5.508381701917304e-05/\n",
      "tune/InceptionTime_input-dim=13_num-classes=9_hidden-dims=64_num-layers=4_learning-rate=0.00028098649833653664_weight-decay=0.0008642986871646551/trainlog.csv\n",
      "tune/LSTM_input-dim=13_num-classes=9_hidden-dims=128_num-layers=1_bidirectional=False_use-layernorm=True_dropout=0.7369083498541_learning-rate=0.00013807584269740695_weight-decay=0.000944157330485858/trainlog.csv\n",
      "tune/MSResNet_input-dim=13_num-classes=9_hidden-dims=32_learning-rate=0.00010099699324166293_weight-decay=5.221576864451801e-05/trainlog.csv\n",
      "tune/MSResNet_input-dim=13_num-classes=9_hidden-dims=32_learning-rate=0.00010586983718434764_weight-decay=1.4729300901739634e-07/\n",
      "tune/MSResNet_input-dim=13_num-classes=9_hidden-dims=32_learning-rate=0.00010586983718434764_weight-decay=1.4729300901739634e-07/trainlog.csv\n",
      "tune/MSResNet_input-dim=13_num-classes=9_hidden-dims=32_learning-rate=0.0006271686393146093_weight-decay=4.750234747127917e-06/\n",
      "tune/MSResNet_input-dim=13_num-classes=9_hidden-dims=32_learning-rate=0.0006271686393146093_weight-decay=4.750234747127917e-06/trainlog.csv\n",
      "tune/StarRNN_input-dim=13_num-classes=9_hidden-dims=32_num-layers=3_learning-rate=0.00020615099183257646_weight-decay=2.3806109614980892e-06/\n",
      "tune/StarRNN_input-dim=13_num-classes=9_hidden-dims=32_num-layers=4_learning-rate=0.0004053566793428001_weight-decay=1.2965553875848835e-06/trainlog.csv\n",
      "tune/StarRNN_input-dim=13_num-classes=9_hidden-dims=64_num-layers=2_learning-rate=0.0023827838758872675_weight-decay=4.686585523423313e-08/trainlog.csv\n",
      "tune/TransformerEncoder_input-dim=13_num-classes=9_d-model=256_d-inner=1024_n-layers=2_n-head=4_dropout=0.022702638630883332_learning-rate=0.0023243041867104324_weight-decay=2.078706277225832e-08/\n",
      "tune/TransformerEncoder_input-dim=13_num-classes=9_d-model=32_d-inner=128_n-layers=4_n-head=1_dropout=0.4351899794783582_learning-rate=0.0004799366269423782_weight-decay=0.003199092810296778/trainlog.csv\n",
      "tune/TransformerEncoder_input-dim=13_num-classes=9_d-model=512_d-inner=2048_n-layers=2_n-head=1_dropout=0.37526788159446334_learning-rate=0.00015000702046192362_weight-decay=0.006893919659116325/trainlog.csv\n",
      "\n",
      "sent 355 bytes  received 13,264 bytes  9,079.33 bytes/sec\n",
      "total size is 30,235  speedup is 2.22\n"
     ]
    }
   ],
   "source": [
    "import os\n",
    "import pandas as pd\n",
    "\n",
    "!rsync -avz -e \"ssh\" marc@uni:/data2/breizhcrops/tune /tmp/\n",
    "    \n",
    "tuneresults = \"/tmp/tune\"\n",
    "runs = os.listdir(tuneresults)\n",
    "runs = [run for run in runs if os.path.exists(os.path.join(tuneresults,run,\"trainlog.csv\"))]"
   ]
  },
  {
   "cell_type": "code",
   "execution_count": 72,
   "metadata": {},
   "outputs": [],
   "source": [
    "def parse_hyperparameters_folder_name(run):\n",
    "    \n",
    "    run = os.path.basename(run)\n",
    "    model, *hyperparameter_str = run.split(\"_\")\n",
    "\n",
    "    hyperparameter = dict()\n",
    "    for kv in hyperparameter_str:\n",
    "        k,v = kv.split(\"=\")\n",
    "        hyperparameter[k] = v\n",
    "    hyperparameter[\"model\"] = model\n",
    "    return hyperparameter"
   ]
  },
  {
   "cell_type": "code",
   "execution_count": 73,
   "metadata": {},
   "outputs": [],
   "source": [
    "def read_best_epoch_stats(run):\n",
    "    df = pd.read_csv(os.path.join(run,\"trainlog.csv\"), index_col=0)\n",
    "    bestepoch = df[\"testloss\"].idxmin()\n",
    "    best_stats = df.loc[bestepoch].to_dict()\n",
    "    best_stats[\"epoch\"] = bestepoch\n",
    "    return best_stats"
   ]
  },
  {
   "cell_type": "code",
   "execution_count": 74,
   "metadata": {},
   "outputs": [],
   "source": [
    "\n",
    "def merge(dict1,dict2):\n",
    "    for k,v in dict2.items():\n",
    "        dict1[k] = v\n",
    "    return dict1"
   ]
  },
  {
   "cell_type": "code",
   "execution_count": 75,
   "metadata": {
    "pycharm": {
     "name": "#%%\n"
    }
   },
   "outputs": [],
   "source": [
    "results = list()\n",
    "for run in runs:\n",
    "    result = parse_hyperparameters_folder_name(os.path.join(tuneresults,run))\n",
    "    best_epoch_stats = read_best_epoch_stats(os.path.join(tuneresults,run))\n",
    "    result = merge(result,best_epoch_stats)\n",
    "    results.append(result)\n",
    "results = pd.DataFrame(results)\n",
    "results"
   ]
  }
 ],
 "metadata": {
  "kernelspec": {
   "display_name": "Python 3",
   "language": "python",
   "name": "python3"
  },
  "language_info": {
   "codemirror_mode": {
    "name": "ipython",
    "version": 3
   },
   "file_extension": ".py",
   "mimetype": "text/x-python",
   "name": "python",
   "nbconvert_exporter": "python",
   "pygments_lexer": "ipython3",
   "version": "3.7.4"
  }
 },
 "nbformat": 4,
 "nbformat_minor": 2
}